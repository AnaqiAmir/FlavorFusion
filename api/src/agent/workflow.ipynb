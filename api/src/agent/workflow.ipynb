{
 "cells": [
  {
   "cell_type": "markdown",
   "metadata": {},
   "source": [
    "# LangGraph implementation\n"
   ]
  },
  {
   "cell_type": "code",
   "execution_count": 4,
   "metadata": {},
   "outputs": [
    {
     "name": "stderr",
     "output_type": "stream",
     "text": [
      "/Users/Anaqi_Amir/opt/anaconda3/envs/FlavorFusion/lib/python3.11/site-packages/sentence_transformers/cross_encoder/CrossEncoder.py:11: TqdmWarning: IProgress not found. Please update jupyter and ipywidgets. See https://ipywidgets.readthedocs.io/en/stable/user_install.html\n",
      "  from tqdm.autonotebook import tqdm, trange\n",
      "2025-03-25 10:29:37.202275: I tensorflow/core/platform/cpu_feature_guard.cc:182] This TensorFlow binary is optimized to use available CPU instructions in performance-critical operations.\n",
      "To enable the following instructions: SSE4.1 SSE4.2, in other operations, rebuild TensorFlow with the appropriate compiler flags.\n",
      "/Users/Anaqi_Amir/opt/anaconda3/envs/FlavorFusion/lib/python3.11/site-packages/huggingface_hub/file_download.py:1150: FutureWarning: `resume_download` is deprecated and will be removed in version 1.0.0. Downloads always resume when possible. If you want to force a new download, use `force_download=True`.\n",
      "  warnings.warn(\n"
     ]
    }
   ],
   "source": [
    "import os\n",
    "\n",
    "os.chdir(\"/Users/Anaqi_Amir/Desktop/FlavorFusion/api/src\")\n",
    "\n",
    "from langchain_core.tools import tool\n",
    "from langchain_openai.chat_models import ChatOpenAI\n",
    "\n",
    "from langgraph.prebuilt import ToolNode\n",
    "from langgraph.graph import StateGraph, MessagesState, START, END\n",
    "from langgraph.checkpoint.memory import MemorySaver\n",
    "\n",
    "from nlp.NLSPipeline import extract_nutritional_features\n",
    "from models.dev.faiss_indexes import FlatIndex\n",
    "\n",
    "from dotenv import load_dotenv\n",
    "\n",
    "\n",
    "# Load env\n",
    "load_dotenv()\n",
    "\n",
    "# Load index\n",
    "index = FlatIndex(\"../../recipe_embeddings_small.json\")"
   ]
  },
  {
   "cell_type": "code",
   "execution_count": 5,
   "metadata": {},
   "outputs": [],
   "source": [
    "# Define tools\n",
    "@tool\n",
    "def recommend_recipes(q: str) -> str:\n",
    "    \"\"\"Takes in user input, extracts relevant features, and output recommended recipes from database\"\"\"\n",
    "\n",
    "    print(f\"\\n Parsed user input: \\n {q} \\n\")\n",
    "\n",
    "    extracted_features = extract_nutritional_features(q)\n",
    "\n",
    "    print(f\"\\n Extracted features: \\n {extracted_features} \\n\")\n",
    "\n",
    "    recs = index.recommend_recipes(\n",
    "        user_ingredients=extracted_features.user_ingredients,\n",
    "        allergens=extracted_features.allergens,\n",
    "        calories=extracted_features.calories,\n",
    "        total_fat=extracted_features.total_fat,\n",
    "        protein=extracted_features.protein,\n",
    "        saturated_fat=extracted_features.saturated_fat,\n",
    "        carbs=extracted_features.carbs,\n",
    "        sodium=extracted_features.sodium,\n",
    "        sugar=extracted_features.sugar,\n",
    "        top_n=10,\n",
    "    )\n",
    "\n",
    "    print(f\"\\n recs: \\n {recs} \\n\")\n",
    "\n",
    "    return \", \".join(recs)\n",
    "\n",
    "\n",
    "@tool\n",
    "def final_answer(answer: str) -> str:\n",
    "    \"\"\"Useful for providing the final answer to the user.\"\"\"\n",
    "    print(\"Hi im the final answer\")\n",
    "    return answer\n",
    "\n",
    "\n",
    "# Define tool node\n",
    "tools = [recommend_recipes, final_answer]\n",
    "tool_node = ToolNode(tools)  # A single node that contains all the tools\n",
    "\n",
    "\n",
    "# Define llm\n",
    "llm = ChatOpenAI().bind_tools(tools)\n",
    "\n",
    "\n",
    "# Define nodes\n",
    "def router(state: MessagesState):\n",
    "    messages = state[\"messages\"]\n",
    "    print(f\"Router: {messages}\")\n",
    "    last_message = messages[-1]\n",
    "    if last_message.tool_calls:\n",
    "        return \"tools\"\n",
    "    return \"end\"\n",
    "\n",
    "\n",
    "def agent(state: MessagesState):\n",
    "    messages = state[\"messages\"]\n",
    "    print(f\"Agent: {messages}\")\n",
    "    response = llm.invoke(messages)\n",
    "    return {\"messages\": [response]}\n",
    "\n",
    "\n",
    "# Define graph\n",
    "workflow = StateGraph(MessagesState)\n",
    "\n",
    "workflow.add_node(\"agent\", agent)\n",
    "workflow.add_node(\"tools\", tool_node)\n",
    "\n",
    "workflow.add_edge(START, \"agent\")\n",
    "workflow.add_conditional_edges(\"agent\", router, {\"tools\": \"tools\", \"end\": END})\n",
    "workflow.add_edge(\"tools\", \"agent\")\n",
    "\n",
    "# Define memory\n",
    "memory = MemorySaver()\n",
    "app = workflow.compile(checkpointer=memory)"
   ]
  },
  {
   "cell_type": "code",
   "execution_count": 3,
   "metadata": {},
   "outputs": [
    {
     "data": {
      "image/png": "[encoded data removed]",
      "text/plain": [
       "<IPython.core.display.Image object>"
      ]
     },
     "metadata": {},
     "output_type": "display_data"
    }
   ],
   "source": [
    "from IPython.display import Image, display\n",
    "\n",
    "try:\n",
    "    display(Image(app.get_graph().draw_mermaid_png()))\n",
    "except Exception:\n",
    "    # This requires some extra dependencies and is optional\n",
    "    pass"
   ]
  },
  {
   "cell_type": "code",
   "execution_count": 6,
   "metadata": {},
   "outputs": [
    {
     "name": "stdout",
     "output_type": "stream",
     "text": [
      "##### HUMAN MESSAGE #####\n",
      "hi there\n",
      "\n",
      "\n",
      "Agent: [HumanMessage(content='hi there', additional_kwargs={}, response_metadata={}, id='15c25751-326c-4082-b3f1-3e9817ea7330')]\n",
      "Router: [HumanMessage(content='hi there', additional_kwargs={}, response_metadata={}, id='15c25751-326c-4082-b3f1-3e9817ea7330'), AIMessage(content='Hello! How can I assist you today?', additional_kwargs={'refusal': None}, response_metadata={'token_usage': {'completion_tokens': 11, 'prompt_tokens': 82, 'total_tokens': 93, 'completion_tokens_details': {'accepted_prediction_tokens': 0, 'audio_tokens': 0, 'reasoning_tokens': 0, 'rejected_prediction_tokens': 0}, 'prompt_tokens_details': {'audio_tokens': 0, 'cached_tokens': 0}}, 'model_name': 'gpt-3.5-turbo-0125', 'system_fingerprint': None, 'finish_reason': 'stop', 'logprobs': None}, id='run-d53c625b-be27-4997-8d93-b9589350be3c-0', usage_metadata={'input_tokens': 82, 'output_tokens': 11, 'total_tokens': 93, 'input_token_details': {'audio': 0, 'cache_read': 0}, 'output_token_details': {'audio': 0, 'reasoning': 0}})]\n",
      "##### AGENT MESSAGE #####\n",
      "Hello! How can I assist you today?\n",
      "\n",
      "\n",
      "##### HUMAN MESSAGE #####\n",
      "give me noodles\n",
      "\n",
      "\n",
      "Agent: [HumanMessage(content='hi there', additional_kwargs={}, response_metadata={}, id='15c25751-326c-4082-b3f1-3e9817ea7330'), AIMessage(content='Hello! How can I assist you today?', additional_kwargs={'refusal': None}, response_metadata={'token_usage': {'completion_tokens': 11, 'prompt_tokens': 82, 'total_tokens': 93, 'completion_tokens_details': {'accepted_prediction_tokens': 0, 'audio_tokens': 0, 'reasoning_tokens': 0, 'rejected_prediction_tokens': 0}, 'prompt_tokens_details': {'audio_tokens': 0, 'cached_tokens': 0}}, 'model_name': 'gpt-3.5-turbo-0125', 'system_fingerprint': None, 'finish_reason': 'stop', 'logprobs': None}, id='run-d53c625b-be27-4997-8d93-b9589350be3c-0', usage_metadata={'input_tokens': 82, 'output_tokens': 11, 'total_tokens': 93, 'input_token_details': {'audio': 0, 'cache_read': 0}, 'output_token_details': {'audio': 0, 'reasoning': 0}}), HumanMessage(content='give me noodles', additional_kwargs={}, response_metadata={}, id='74671c1f-c92b-439c-a085-ac3e0c2f5e16')]\n",
      "Router: [HumanMessage(content='hi there', additional_kwargs={}, response_metadata={}, id='15c25751-326c-4082-b3f1-3e9817ea7330'), AIMessage(content='Hello! How can I assist you today?', additional_kwargs={'refusal': None}, response_metadata={'token_usage': {'completion_tokens': 11, 'prompt_tokens': 82, 'total_tokens': 93, 'completion_tokens_details': {'accepted_prediction_tokens': 0, 'audio_tokens': 0, 'reasoning_tokens': 0, 'rejected_prediction_tokens': 0}, 'prompt_tokens_details': {'audio_tokens': 0, 'cached_tokens': 0}}, 'model_name': 'gpt-3.5-turbo-0125', 'system_fingerprint': None, 'finish_reason': 'stop', 'logprobs': None}, id='run-d53c625b-be27-4997-8d93-b9589350be3c-0', usage_metadata={'input_tokens': 82, 'output_tokens': 11, 'total_tokens': 93, 'input_token_details': {'audio': 0, 'cache_read': 0}, 'output_token_details': {'audio': 0, 'reasoning': 0}}), HumanMessage(content='give me noodles', additional_kwargs={}, response_metadata={}, id='74671c1f-c92b-439c-a085-ac3e0c2f5e16'), AIMessage(content='', additional_kwargs={'tool_calls': [{'id': 'call_sXvEVdx0kMYADC6YKAs2NnYj', 'function': {'arguments': '{\"q\":\"noodles\"}', 'name': 'recommend_recipes'}, 'type': 'function'}], 'refusal': None}, response_metadata={'token_usage': {'completion_tokens': 18, 'prompt_tokens': 102, 'total_tokens': 120, 'completion_tokens_details': {'accepted_prediction_tokens': 0, 'audio_tokens': 0, 'reasoning_tokens': 0, 'rejected_prediction_tokens': 0}, 'prompt_tokens_details': {'audio_tokens': 0, 'cached_tokens': 0}}, 'model_name': 'gpt-3.5-turbo-0125', 'system_fingerprint': None, 'finish_reason': 'tool_calls', 'logprobs': None}, id='run-daa78300-b8fc-4f6c-9574-7d3ba7ed0bf3-0', tool_calls=[{'name': 'recommend_recipes', 'args': {'q': 'noodles'}, 'id': 'call_sXvEVdx0kMYADC6YKAs2NnYj', 'type': 'tool_call'}], usage_metadata={'input_tokens': 102, 'output_tokens': 18, 'total_tokens': 120, 'input_token_details': {'audio': 0, 'cache_read': 0}, 'output_token_details': {'audio': 0, 'reasoning': 0}})]\n",
      "##### AGENT MESSAGE #####\n",
      "\n",
      "\n",
      "\n",
      "\n",
      " Parsed user input: \n",
      " noodles \n",
      "\n"
     ]
    },
    {
     "name": "stderr",
     "output_type": "stream",
     "text": [
      "/Users/Anaqi_Amir/Desktop/FlavorFusion/api/src/nlp/NLSPipeline.py:91: LangChainDeprecationWarning: The class `ChatOpenAI` was deprecated in LangChain 0.0.10 and will be removed in 1.0. An updated version of the class exists in the :class:`~langchain-openai package and should be used instead. To use it run `pip install -U :class:`~langchain-openai` and import as `from :class:`~langchain_openai import ChatOpenAI``.\n",
      "  llm = ChatOpenAI(temperature=0.1, api_key=os.environ.get(\"OPENAI_API_KEY\"))\n",
      "/Users/Anaqi_Amir/Desktop/FlavorFusion/api/src/nlp/NLSPipeline.py:94: LangChainDeprecationWarning: The class `LLMChain` was deprecated in LangChain 0.1.17 and will be removed in 1.0. Use :meth:`~RunnableSequence, e.g., `prompt | llm`` instead.\n",
      "  chain = LLMChain(llm=llm, prompt=chat_prompt)\n"
     ]
    },
    {
     "name": "stdout",
     "output_type": "stream",
     "text": [
      "\n",
      " Extracted features: \n",
      " user_ingredients=['noodles'] allergens=['wheat'] calories=(None, None) total_fat=(None, None) saturated_fat=(None, None) carbs=(None, None) sugar=(None, None) sodium=(None, None) protein=(None, None) \n",
      "\n",
      "\n",
      " recs: \n",
      " ['hawaiian quesadillas', 'ez pasta bake', 'sakhons noodles', 'baked popcorn shrimp', 'homemade stromboli   mmmmmmmmmmm', 'ww easy chicken and rice', 'honey garlic pork chops', 'quick tuna no noodle casserole', 'crock pot pizza  easy enough for teens to make', 'stuffed kielbasa'] \n",
      "\n",
      "##### TOOLS MESSAGE #####\n",
      "hawaiian quesadillas, ez pasta bake, sakhons noodles, baked popcorn shrimp, homemade stromboli   mmmmmmmmmmm, ww easy chicken and rice, honey garlic pork chops, quick tuna no noodle casserole, crock pot pizza  easy enough for teens to make, stuffed kielbasa\n",
      "\n",
      "\n",
      "Agent: [HumanMessage(content='hi there', additional_kwargs={}, response_metadata={}, id='15c25751-326c-4082-b3f1-3e9817ea7330'), AIMessage(content='Hello! How can I assist you today?', additional_kwargs={'refusal': None}, response_metadata={'token_usage': {'completion_tokens': 11, 'prompt_tokens': 82, 'total_tokens': 93, 'completion_tokens_details': {'accepted_prediction_tokens': 0, 'audio_tokens': 0, 'reasoning_tokens': 0, 'rejected_prediction_tokens': 0}, 'prompt_tokens_details': {'audio_tokens': 0, 'cached_tokens': 0}}, 'model_name': 'gpt-3.5-turbo-0125', 'system_fingerprint': None, 'finish_reason': 'stop', 'logprobs': None}, id='run-d53c625b-be27-4997-8d93-b9589350be3c-0', usage_metadata={'input_tokens': 82, 'output_tokens': 11, 'total_tokens': 93, 'input_token_details': {'audio': 0, 'cache_read': 0}, 'output_token_details': {'audio': 0, 'reasoning': 0}}), HumanMessage(content='give me noodles', additional_kwargs={}, response_metadata={}, id='74671c1f-c92b-439c-a085-ac3e0c2f5e16'), AIMessage(content='', additional_kwargs={'tool_calls': [{'id': 'call_sXvEVdx0kMYADC6YKAs2NnYj', 'function': {'arguments': '{\"q\":\"noodles\"}', 'name': 'recommend_recipes'}, 'type': 'function'}], 'refusal': None}, response_metadata={'token_usage': {'completion_tokens': 18, 'prompt_tokens': 102, 'total_tokens': 120, 'completion_tokens_details': {'accepted_prediction_tokens': 0, 'audio_tokens': 0, 'reasoning_tokens': 0, 'rejected_prediction_tokens': 0}, 'prompt_tokens_details': {'audio_tokens': 0, 'cached_tokens': 0}}, 'model_name': 'gpt-3.5-turbo-0125', 'system_fingerprint': None, 'finish_reason': 'tool_calls', 'logprobs': None}, id='run-daa78300-b8fc-4f6c-9574-7d3ba7ed0bf3-0', tool_calls=[{'name': 'recommend_recipes', 'args': {'q': 'noodles'}, 'id': 'call_sXvEVdx0kMYADC6YKAs2NnYj', 'type': 'tool_call'}], usage_metadata={'input_tokens': 102, 'output_tokens': 18, 'total_tokens': 120, 'input_token_details': {'audio': 0, 'cache_read': 0}, 'output_token_details': {'audio': 0, 'reasoning': 0}}), ToolMessage(content='hawaiian quesadillas, ez pasta bake, sakhons noodles, baked popcorn shrimp, homemade stromboli   mmmmmmmmmmm, ww easy chicken and rice, honey garlic pork chops, quick tuna no noodle casserole, crock pot pizza  easy enough for teens to make, stuffed kielbasa', name='recommend_recipes', id='584b5032-93d2-4fad-975d-4e02643caffe', tool_call_id='call_sXvEVdx0kMYADC6YKAs2NnYj')]\n",
      "Router: [HumanMessage(content='hi there', additional_kwargs={}, response_metadata={}, id='15c25751-326c-4082-b3f1-3e9817ea7330'), AIMessage(content='Hello! How can I assist you today?', additional_kwargs={'refusal': None}, response_metadata={'token_usage': {'completion_tokens': 11, 'prompt_tokens': 82, 'total_tokens': 93, 'completion_tokens_details': {'accepted_prediction_tokens': 0, 'audio_tokens': 0, 'reasoning_tokens': 0, 'rejected_prediction_tokens': 0}, 'prompt_tokens_details': {'audio_tokens': 0, 'cached_tokens': 0}}, 'model_name': 'gpt-3.5-turbo-0125', 'system_fingerprint': None, 'finish_reason': 'stop', 'logprobs': None}, id='run-d53c625b-be27-4997-8d93-b9589350be3c-0', usage_metadata={'input_tokens': 82, 'output_tokens': 11, 'total_tokens': 93, 'input_token_details': {'audio': 0, 'cache_read': 0}, 'output_token_details': {'audio': 0, 'reasoning': 0}}), HumanMessage(content='give me noodles', additional_kwargs={}, response_metadata={}, id='74671c1f-c92b-439c-a085-ac3e0c2f5e16'), AIMessage(content='', additional_kwargs={'tool_calls': [{'id': 'call_sXvEVdx0kMYADC6YKAs2NnYj', 'function': {'arguments': '{\"q\":\"noodles\"}', 'name': 'recommend_recipes'}, 'type': 'function'}], 'refusal': None}, response_metadata={'token_usage': {'completion_tokens': 18, 'prompt_tokens': 102, 'total_tokens': 120, 'completion_tokens_details': {'accepted_prediction_tokens': 0, 'audio_tokens': 0, 'reasoning_tokens': 0, 'rejected_prediction_tokens': 0}, 'prompt_tokens_details': {'audio_tokens': 0, 'cached_tokens': 0}}, 'model_name': 'gpt-3.5-turbo-0125', 'system_fingerprint': None, 'finish_reason': 'tool_calls', 'logprobs': None}, id='run-daa78300-b8fc-4f6c-9574-7d3ba7ed0bf3-0', tool_calls=[{'name': 'recommend_recipes', 'args': {'q': 'noodles'}, 'id': 'call_sXvEVdx0kMYADC6YKAs2NnYj', 'type': 'tool_call'}], usage_metadata={'input_tokens': 102, 'output_tokens': 18, 'total_tokens': 120, 'input_token_details': {'audio': 0, 'cache_read': 0}, 'output_token_details': {'audio': 0, 'reasoning': 0}}), ToolMessage(content='hawaiian quesadillas, ez pasta bake, sakhons noodles, baked popcorn shrimp, homemade stromboli   mmmmmmmmmmm, ww easy chicken and rice, honey garlic pork chops, quick tuna no noodle casserole, crock pot pizza  easy enough for teens to make, stuffed kielbasa', name='recommend_recipes', id='584b5032-93d2-4fad-975d-4e02643caffe', tool_call_id='call_sXvEVdx0kMYADC6YKAs2NnYj'), AIMessage(content='I found some delicious noodle recipes for you to try:\\n1. Hawaiian Quesadillas\\n2. EZ Pasta Bake\\n3. Sakhons Noodles\\n4. Baked Popcorn Shrimp\\n5. Homemade Stromboli\\n6. WW Easy Chicken and Rice\\n7. Honey Garlic Pork Chops\\n8. Quick Tuna No Noodle Casserole\\n9. Crock Pot Pizza - Easy enough for teens to make\\n10. Stuffed Kielbasa\\n\\nLet me know if you need more details on any of these recipes!', additional_kwargs={'refusal': None}, response_metadata={'token_usage': {'completion_tokens': 117, 'prompt_tokens': 198, 'total_tokens': 315, 'completion_tokens_details': {'accepted_prediction_tokens': 0, 'audio_tokens': 0, 'reasoning_tokens': 0, 'rejected_prediction_tokens': 0}, 'prompt_tokens_details': {'audio_tokens': 0, 'cached_tokens': 0}}, 'model_name': 'gpt-3.5-turbo-0125', 'system_fingerprint': None, 'finish_reason': 'stop', 'logprobs': None}, id='run-3ccec626-9f0b-4d66-913f-8a2925199c34-0', usage_metadata={'input_tokens': 198, 'output_tokens': 117, 'total_tokens': 315, 'input_token_details': {'audio': 0, 'cache_read': 0}, 'output_token_details': {'audio': 0, 'reasoning': 0}})]\n",
      "##### AGENT MESSAGE #####\n",
      "I found some delicious noodle recipes for you to try:\n",
      "1. Hawaiian Quesadillas\n",
      "2. EZ Pasta Bake\n",
      "3. Sakhons Noodles\n",
      "4. Baked Popcorn Shrimp\n",
      "5. Homemade Stromboli\n",
      "6. WW Easy Chicken and Rice\n",
      "7. Honey Garlic Pork Chops\n",
      "8. Quick Tuna No Noodle Casserole\n",
      "9. Crock Pot Pizza - Easy enough for teens to make\n",
      "10. Stuffed Kielbasa\n",
      "\n",
      "Let me know if you need more details on any of these recipes!\n",
      "\n",
      "\n",
      "Goodbye!\n"
     ]
    }
   ],
   "source": [
    "# IO\n",
    "def stream_graph_updates(user_input: str):\n",
    "    for event in app.stream(\n",
    "        {\"messages\": [{\"role\": \"user\", \"content\": user_input}]},\n",
    "        config={\"configurable\": {\"thread_id\": \"1\"}},\n",
    "    ):\n",
    "        entity = [list(event)[0]][0].upper()  # either agent or tool\n",
    "        print(f\"##### {entity} MESSAGE #####\")\n",
    "        print(event[list(event)[0]][\"messages\"][-1].content)\n",
    "        print(\"\\n\")\n",
    "\n",
    "\n",
    "while True:\n",
    "    try:\n",
    "        user_input = input(\"User: \")\n",
    "        if user_input.lower() in [\"quit\", \"exit\", \"q\"]:\n",
    "            print(\"Goodbye!\")\n",
    "            break\n",
    "\n",
    "        print(\"##### HUMAN MESSAGE #####\")\n",
    "        print(user_input)\n",
    "        print(\"\\n\")\n",
    "\n",
    "        stream_graph_updates(user_input)\n",
    "    except:\n",
    "        # fallback if input() is not available\n",
    "        user_input = \"What do you know about LangGraph?\"\n",
    "        print(\"User: \" + user_input)\n",
    "        stream_graph_updates(user_input)\n",
    "        break"
   ]
  }
 ],
 "metadata": {
  "kernelspec": {
   "display_name": "FlavorFusion",
   "language": "python",
   "name": "python3"
  },
  "language_info": {
   "codemirror_mode": {
    "name": "ipython",
    "version": 3
   },
   "file_extension": ".py",
   "mimetype": "text/x-python",
   "name": "python",
   "nbconvert_exporter": "python",
   "pygments_lexer": "ipython3",
   "version": "3.11.5"
  }
 },
 "nbformat": 4,
 "nbformat_minor": 2
}
