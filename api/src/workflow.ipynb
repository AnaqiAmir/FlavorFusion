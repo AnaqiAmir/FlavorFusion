{
 "cells": [
  {
   "cell_type": "markdown",
   "metadata": {},
   "source": [
    "# LangGraph implementation"
   ]
  },
  {
   "cell_type": "code",
   "execution_count": 3,
   "metadata": {},
   "outputs": [
    {
     "name": "stderr",
     "output_type": "stream",
     "text": [
      "/Users/Anaqi_Amir/opt/anaconda3/envs/FlavorFusion/lib/python3.11/site-packages/huggingface_hub/file_download.py:1150: FutureWarning: `resume_download` is deprecated and will be removed in version 1.0.0. Downloads always resume when possible. If you want to force a new download, use `force_download=True`.\n",
      "  warnings.warn(\n"
     ]
    }
   ],
   "source": [
    "from langchain_core.tools import tool\n",
    "from langchain_openai.chat_models import ChatOpenAI\n",
    "\n",
    "from langgraph.prebuilt import ToolNode\n",
    "from langgraph.graph import StateGraph, MessagesState, START, END\n",
    "\n",
    "from nlp.NLSPipeline import extract_nutritional_features\n",
    "from models.dev.faiss_indexes import FlatIndex\n",
    "\n",
    "from dotenv import load_dotenv\n",
    "from typing import Dict\n",
    "\n",
    "# Load env\n",
    "load_dotenv()\n",
    "\n",
    "# Load index\n",
    "index = FlatIndex(\"../../recipe_embeddings.json\")"
   ]
  },
  {
   "cell_type": "code",
   "execution_count": null,
   "metadata": {},
   "outputs": [
    {
     "name": "stdout",
     "output_type": "stream",
     "text": [
      "\n",
      " Parsed user input: \n",
      " 500 calories, low fat, high protein, no macadamia nuts, no whey protein, with tomatoes and basil, without onions \n",
      "\n",
      "\n",
      " Extracted features: \n",
      " user_ingredients=['tomatoes', 'basil', 'onions'] allergens=['macadamia nuts', 'whey protein'] calories=(500.0, 500.0) total_fat=(None, None) saturated_fat=(None, None) carbs=(None, None) sugar=(None, None) sodium=(None, None) protein=(None, None) \n",
      "\n",
      "\n",
      " recs: \n",
      " ['molasses crinkles', 'molasses crinkles', 'molasses crinkles', 'molasses crinkles', 'molasses crinkles', 'molasses crinkles', 'molasses crinkles', 'molasses crinkles', 'molasses crinkles', 'molasses crinkles'] \n",
      "\n",
      "{'messages': [ToolMessage(content='{\"messages\": [\"molasses crinkles\", \"molasses crinkles\", \"molasses crinkles\", \"molasses crinkles\", \"molasses crinkles\", \"molasses crinkles\", \"molasses crinkles\", \"molasses crinkles\", \"molasses crinkles\", \"molasses crinkles\"]}', name='recipe_recommender', tool_call_id='call_UCa9CurnPg9DHCrsfmVCLsAM')]}\n"
     ]
    }
   ],
   "source": [
    "@tool(\"recipe_recommender\")\n",
    "def recipe_recommender(q: str) -> Dict:\n",
    "    \"\"\"Takes in user input, extracts relevant features, and output recommended recipes from database\"\"\"\n",
    "\n",
    "    print(f\"\\n Parsed user input: \\n {q} \\n\")\n",
    "\n",
    "    extracted_features = extract_nutritional_features(q)\n",
    "\n",
    "    print(f\"\\n Extracted features: \\n {extracted_features} \\n\")\n",
    "\n",
    "    recs = index.recommend_recipes(\n",
    "        user_ingredients=extracted_features.user_ingredients,\n",
    "        allergens=extracted_features.allergens,\n",
    "        calories=extracted_features.calories,\n",
    "        total_fat=extracted_features.total_fat,\n",
    "        protein=extracted_features.protein,\n",
    "        saturated_fat=extracted_features.saturated_fat,\n",
    "        carbs=extracted_features.carbs,\n",
    "        sodium=extracted_features.sodium,\n",
    "        sugar=extracted_features.sugar,\n",
    "        top_n=10,\n",
    "    )\n",
    "\n",
    "    print(f\"\\n recs: \\n {recs} \\n\")\n",
    "\n",
    "    return {\"messages\": recs}\n",
    "\n",
    "\n",
    "@tool(\"final_answer\")\n",
    "def final_answer(recommendations: Dict) -> str:\n",
    "    \"\"\"Formats the query into a final answer\"\"\"\n",
    "    return recommendations\n",
    "\n",
    "\n",
    "tools = [recipe_recommender, final_answer]\n",
    "tool_node = ToolNode(tools)\n",
    "\n",
    "\n",
    "def router(state: MessagesState):\n",
    "    messages = state[\"messages\"]\n",
    "    last_message = messages[-1]\n",
    "    if last_message.tool_calls:\n",
    "        return \"recommender\"\n",
    "    return END\n",
    "\n",
    "\n",
    "def chatbot(state: MessagesState):\n",
    "    messages = state[\"messages\"]\n",
    "    response = llm.invoke(messages)\n",
    "    return {\"messages\": [response]}\n",
    "\n",
    "\n",
    "llm = ChatOpenAI(model=\"gpt-3.5-turbo\", temperature=0.25, max_tokens=500).bind_tools(\n",
    "    tools\n",
    ")\n",
    "\n",
    "output = tool_node.invoke(\n",
    "    {\n",
    "        \"messages\": [\n",
    "            llm.invoke(\n",
    "                \"Recommend me a recipe with around 500 calories, low fat (no more than 10g total fat), high protein, \\n\"\n",
    "                \"and please avoid macadamia nuts and whey protein. I love tomatoes and basil, but I don't like onions.\"\n",
    "            )\n",
    "        ]\n",
    "    }\n",
    ")\n",
    "\n",
    "print(output)"
   ]
  },
  {
   "cell_type": "markdown",
   "metadata": {},
   "source": [
    "## Graph Implementation"
   ]
  },
  {
   "cell_type": "code",
   "execution_count": null,
   "metadata": {},
   "outputs": [],
   "source": [
    "# graph = StateGraph(MessagesState)\n",
    "\n",
    "# graph.add_node(\"chatbot\", chatbot)\n",
    "# graph.add_node(\"recommender\", recipe_recommender)\n",
    "# graph.add_node(\"final_answer\", final_answer)\n",
    "\n",
    "# graph.add_edge(START, \"chatbot\")\n",
    "# # graph.add_conditional_edges(\"chatbot\", router, [\"recommender\", END])\n",
    "# graph.add_edge(\"chatbot\", \"recommender\")\n",
    "# graph.add_edge(\"recommender\", \"final_answer\")\n",
    "# graph.add_edge(\"final_answer\", END)\n",
    "\n",
    "# app = graph.compile()\n",
    "\n",
    "# if __name__ == \"__main__\":\n",
    "#     tool_node.invoke({\n",
    "#     \"messages\": [llm.invoke(\"Recommend me a recipe with around 500 calories, low fat (no more than 10g total fat), high protein, \\n\"\n",
    "#     \"and please avoid macadamia nuts and whey protein. I love tomatoes and basil, but I don't like onions.\")]\n",
    "# })"
   ]
  }
 ],
 "metadata": {
  "kernelspec": {
   "display_name": "FlavorFusion",
   "language": "python",
   "name": "python3"
  },
  "language_info": {
   "codemirror_mode": {
    "name": "ipython",
    "version": 3
   },
   "file_extension": ".py",
   "mimetype": "text/x-python",
   "name": "python",
   "nbconvert_exporter": "python",
   "pygments_lexer": "ipython3",
   "version": "3.11.5"
  }
 },
 "nbformat": 4,
 "nbformat_minor": 2
}
